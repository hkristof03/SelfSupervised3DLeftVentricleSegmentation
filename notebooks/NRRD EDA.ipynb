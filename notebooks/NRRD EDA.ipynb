{
 "cells": [
  {
   "cell_type": "code",
   "execution_count": 1,
   "id": "223b5431",
   "metadata": {},
   "outputs": [],
   "source": [
    "import os\n",
    "import glob\n",
    "import random\n",
    "\n",
    "import pandas as pd\n",
    "import numpy as np\n",
    "from tqdm.notebook import tqdm\n",
    "import nrrd\n",
    "import matplotlib.pyplot as plt\n",
    "\n",
    "import torchio as tio"
   ]
  },
  {
   "cell_type": "code",
   "execution_count": 2,
   "id": "ef00fea1",
   "metadata": {},
   "outputs": [],
   "source": [
    "path_segmentation = os.path.join(os.getcwd(), '..', 'data', 'segmentation')"
   ]
  },
  {
   "cell_type": "code",
   "execution_count": 3,
   "id": "6b2acda5",
   "metadata": {},
   "outputs": [
    {
     "data": {
      "application/vnd.jupyter.widget-view+json": {
       "model_id": "fb26f87c4dcb47d9acaa2fc09ff4397b",
       "version_major": 2,
       "version_minor": 0
      },
      "text/plain": [
       "  0%|          | 0/102 [00:00<?, ?it/s]"
      ]
     },
     "metadata": {},
     "output_type": "display_data"
    }
   ],
   "source": [
    "data = []\n",
    "\n",
    "n_files = 103\n",
    "\n",
    "for i in tqdm(range(1, n_files)):\n",
    "    \n",
    "    path_image = os.path.join(path_segmentation, f'{i}.nrrd')\n",
    "    path_mask = os.path.join(path_segmentation, f'{i}_Segmentation.nrrd')\n",
    "    \n",
    "    image, header = nrrd.read(path_image)\n",
    "    \n",
    "    if os.path.isfile(path_mask):\n",
    "        \n",
    "        mask, header = nrrd.read(path_mask)\n",
    "        \n",
    "        try:\n",
    "            assert image.shape == mask.shape\n",
    "        except AssertionError:\n",
    "            print(i, image.shape, mask.shape)\n",
    "    else:\n",
    "        mask = None\n",
    "            \n",
    "    data.append({\n",
    "        'image': path_image.split(os.sep)[-1],\n",
    "        'image_slices': image.shape[0],\n",
    "        'image_height': image.shape[1],\n",
    "        'image_width': image.shape[2],\n",
    "        'mask': path_mask.split(os.sep)[-1] if isinstance(mask, np.ndarray) else pd.NaT,\n",
    "        'mask_slices': mask.shape[0] if isinstance(mask, np.ndarray) else pd.NaT,\n",
    "        'mask_height': mask.shape[1] if isinstance(mask, np.ndarray) else pd.NaT,\n",
    "        'mask_width': mask.shape[2] if isinstance(mask, np.ndarray) else pd.NaT,\n",
    "        'slices_positive': (mask > 0).any(axis=(1, 2)).sum() if isinstance(mask, np.ndarray) else pd.NaT,\n",
    "        'positive_pixels_ratio': mask[mask == 1].sum() / len(mask.flatten()) if mask is not None else pd.NaT\n",
    "    })\n",
    "    \n",
    "df = pd.DataFrame(data)\n",
    "\n",
    "df['positive_ratio'] = df['slices_positive'] / df['image_slices']\n",
    "condition = df['positive_ratio'].notnull()\n",
    "df.loc[condition, 'positive_slice_ratio'] = df.loc[condition, 'positive_ratio'].apply(lambda x: f'{x:.2f} %')\n"
   ]
  },
  {
   "cell_type": "code",
   "execution_count": 5,
   "id": "afd299c7",
   "metadata": {},
   "outputs": [
    {
     "data": {
      "text/html": [
       "<div>\n",
       "<style scoped>\n",
       "    .dataframe tbody tr th:only-of-type {\n",
       "        vertical-align: middle;\n",
       "    }\n",
       "\n",
       "    .dataframe tbody tr th {\n",
       "        vertical-align: top;\n",
       "    }\n",
       "\n",
       "    .dataframe thead th {\n",
       "        text-align: right;\n",
       "    }\n",
       "</style>\n",
       "<table border=\"1\" class=\"dataframe\">\n",
       "  <thead>\n",
       "    <tr style=\"text-align: right;\">\n",
       "      <th></th>\n",
       "      <th>image</th>\n",
       "      <th>image_slices</th>\n",
       "      <th>image_height</th>\n",
       "      <th>image_width</th>\n",
       "      <th>mask</th>\n",
       "      <th>mask_slices</th>\n",
       "      <th>mask_height</th>\n",
       "      <th>mask_width</th>\n",
       "      <th>slices_positive</th>\n",
       "      <th>positive_pixels_ratio</th>\n",
       "      <th>positive_ratio</th>\n",
       "      <th>positive_slice_ratio</th>\n",
       "    </tr>\n",
       "  </thead>\n",
       "  <tbody>\n",
       "    <tr>\n",
       "      <th>0</th>\n",
       "      <td>1.nrrd</td>\n",
       "      <td>62</td>\n",
       "      <td>64</td>\n",
       "      <td>64</td>\n",
       "      <td>1_Segmentation.nrrd</td>\n",
       "      <td>62</td>\n",
       "      <td>64</td>\n",
       "      <td>64</td>\n",
       "      <td>11</td>\n",
       "      <td>0.002788</td>\n",
       "      <td>0.177419</td>\n",
       "      <td>0.18 %</td>\n",
       "    </tr>\n",
       "    <tr>\n",
       "      <th>1</th>\n",
       "      <td>2.nrrd</td>\n",
       "      <td>64</td>\n",
       "      <td>64</td>\n",
       "      <td>64</td>\n",
       "      <td>2_Segmentation.nrrd</td>\n",
       "      <td>64</td>\n",
       "      <td>64</td>\n",
       "      <td>64</td>\n",
       "      <td>8</td>\n",
       "      <td>0.001518</td>\n",
       "      <td>0.125</td>\n",
       "      <td>0.12 %</td>\n",
       "    </tr>\n",
       "    <tr>\n",
       "      <th>2</th>\n",
       "      <td>3.nrrd</td>\n",
       "      <td>64</td>\n",
       "      <td>64</td>\n",
       "      <td>64</td>\n",
       "      <td>3_Segmentation.nrrd</td>\n",
       "      <td>64</td>\n",
       "      <td>64</td>\n",
       "      <td>64</td>\n",
       "      <td>18</td>\n",
       "      <td>0.008568</td>\n",
       "      <td>0.28125</td>\n",
       "      <td>0.28 %</td>\n",
       "    </tr>\n",
       "    <tr>\n",
       "      <th>3</th>\n",
       "      <td>4.nrrd</td>\n",
       "      <td>64</td>\n",
       "      <td>64</td>\n",
       "      <td>64</td>\n",
       "      <td>NaT</td>\n",
       "      <td>NaT</td>\n",
       "      <td>NaT</td>\n",
       "      <td>NaT</td>\n",
       "      <td>NaT</td>\n",
       "      <td>NaT</td>\n",
       "      <td>NaT</td>\n",
       "      <td>NaN</td>\n",
       "    </tr>\n",
       "    <tr>\n",
       "      <th>4</th>\n",
       "      <td>5.nrrd</td>\n",
       "      <td>128</td>\n",
       "      <td>128</td>\n",
       "      <td>128</td>\n",
       "      <td>5_Segmentation.nrrd</td>\n",
       "      <td>128</td>\n",
       "      <td>128</td>\n",
       "      <td>128</td>\n",
       "      <td>22</td>\n",
       "      <td>0.001923</td>\n",
       "      <td>0.171875</td>\n",
       "      <td>0.17 %</td>\n",
       "    </tr>\n",
       "    <tr>\n",
       "      <th>...</th>\n",
       "      <td>...</td>\n",
       "      <td>...</td>\n",
       "      <td>...</td>\n",
       "      <td>...</td>\n",
       "      <td>...</td>\n",
       "      <td>...</td>\n",
       "      <td>...</td>\n",
       "      <td>...</td>\n",
       "      <td>...</td>\n",
       "      <td>...</td>\n",
       "      <td>...</td>\n",
       "      <td>...</td>\n",
       "    </tr>\n",
       "    <tr>\n",
       "      <th>97</th>\n",
       "      <td>98.nrrd</td>\n",
       "      <td>52</td>\n",
       "      <td>128</td>\n",
       "      <td>128</td>\n",
       "      <td>NaT</td>\n",
       "      <td>NaT</td>\n",
       "      <td>NaT</td>\n",
       "      <td>NaT</td>\n",
       "      <td>NaT</td>\n",
       "      <td>NaT</td>\n",
       "      <td>NaN</td>\n",
       "      <td>NaN</td>\n",
       "    </tr>\n",
       "    <tr>\n",
       "      <th>98</th>\n",
       "      <td>99.nrrd</td>\n",
       "      <td>28</td>\n",
       "      <td>64</td>\n",
       "      <td>64</td>\n",
       "      <td>NaT</td>\n",
       "      <td>NaT</td>\n",
       "      <td>NaT</td>\n",
       "      <td>NaT</td>\n",
       "      <td>NaT</td>\n",
       "      <td>NaT</td>\n",
       "      <td>NaN</td>\n",
       "      <td>NaN</td>\n",
       "    </tr>\n",
       "    <tr>\n",
       "      <th>99</th>\n",
       "      <td>100.nrrd</td>\n",
       "      <td>52</td>\n",
       "      <td>128</td>\n",
       "      <td>128</td>\n",
       "      <td>NaT</td>\n",
       "      <td>NaT</td>\n",
       "      <td>NaT</td>\n",
       "      <td>NaT</td>\n",
       "      <td>NaT</td>\n",
       "      <td>NaT</td>\n",
       "      <td>NaN</td>\n",
       "      <td>NaN</td>\n",
       "    </tr>\n",
       "    <tr>\n",
       "      <th>100</th>\n",
       "      <td>101.nrrd</td>\n",
       "      <td>83</td>\n",
       "      <td>128</td>\n",
       "      <td>128</td>\n",
       "      <td>NaT</td>\n",
       "      <td>NaT</td>\n",
       "      <td>NaT</td>\n",
       "      <td>NaT</td>\n",
       "      <td>NaT</td>\n",
       "      <td>NaT</td>\n",
       "      <td>NaN</td>\n",
       "      <td>NaN</td>\n",
       "    </tr>\n",
       "    <tr>\n",
       "      <th>101</th>\n",
       "      <td>102.nrrd</td>\n",
       "      <td>64</td>\n",
       "      <td>64</td>\n",
       "      <td>64</td>\n",
       "      <td>NaT</td>\n",
       "      <td>NaT</td>\n",
       "      <td>NaT</td>\n",
       "      <td>NaT</td>\n",
       "      <td>NaT</td>\n",
       "      <td>NaT</td>\n",
       "      <td>NaN</td>\n",
       "      <td>NaN</td>\n",
       "    </tr>\n",
       "  </tbody>\n",
       "</table>\n",
       "<p>102 rows × 12 columns</p>\n",
       "</div>"
      ],
      "text/plain": [
       "        image  image_slices  image_height  image_width                 mask  \\\n",
       "0      1.nrrd            62            64           64  1_Segmentation.nrrd   \n",
       "1      2.nrrd            64            64           64  2_Segmentation.nrrd   \n",
       "2      3.nrrd            64            64           64  3_Segmentation.nrrd   \n",
       "3      4.nrrd            64            64           64                  NaT   \n",
       "4      5.nrrd           128           128          128  5_Segmentation.nrrd   \n",
       "..        ...           ...           ...          ...                  ...   \n",
       "97    98.nrrd            52           128          128                  NaT   \n",
       "98    99.nrrd            28            64           64                  NaT   \n",
       "99   100.nrrd            52           128          128                  NaT   \n",
       "100  101.nrrd            83           128          128                  NaT   \n",
       "101  102.nrrd            64            64           64                  NaT   \n",
       "\n",
       "    mask_slices mask_height mask_width slices_positive positive_pixels_ratio  \\\n",
       "0            62          64         64              11              0.002788   \n",
       "1            64          64         64               8              0.001518   \n",
       "2            64          64         64              18              0.008568   \n",
       "3           NaT         NaT        NaT             NaT                   NaT   \n",
       "4           128         128        128              22              0.001923   \n",
       "..          ...         ...        ...             ...                   ...   \n",
       "97          NaT         NaT        NaT             NaT                   NaT   \n",
       "98          NaT         NaT        NaT             NaT                   NaT   \n",
       "99          NaT         NaT        NaT             NaT                   NaT   \n",
       "100         NaT         NaT        NaT             NaT                   NaT   \n",
       "101         NaT         NaT        NaT             NaT                   NaT   \n",
       "\n",
       "    positive_ratio positive_slice_ratio  \n",
       "0         0.177419               0.18 %  \n",
       "1            0.125               0.12 %  \n",
       "2          0.28125               0.28 %  \n",
       "3              NaT                  NaN  \n",
       "4         0.171875               0.17 %  \n",
       "..             ...                  ...  \n",
       "97             NaN                  NaN  \n",
       "98             NaN                  NaN  \n",
       "99             NaN                  NaN  \n",
       "100            NaN                  NaN  \n",
       "101            NaN                  NaN  \n",
       "\n",
       "[102 rows x 12 columns]"
      ]
     },
     "execution_count": 5,
     "metadata": {},
     "output_type": "execute_result"
    }
   ],
   "source": [
    "df"
   ]
  },
  {
   "cell_type": "code",
   "execution_count": 11,
   "id": "3d3a605d",
   "metadata": {},
   "outputs": [
    {
     "name": "stdout",
     "output_type": "stream",
     "text": [
      "Mean volume depth: 55.8039\n",
      "Min. volume depth: 17\n",
      "Max. volume depth: 128\n"
     ]
    }
   ],
   "source": [
    "print(f\"Mean volume depth: {df['image_slices'].mean():.4f}\")\n",
    "print(f\"Min. volume depth: {df['image_slices'].min()}\")\n",
    "print(f\"Max. volume depth: {df['image_slices'].max()}\")"
   ]
  },
  {
   "cell_type": "code",
   "execution_count": null,
   "id": "3e956a92",
   "metadata": {},
   "outputs": [],
   "source": []
  },
  {
   "cell_type": "code",
   "execution_count": 12,
   "id": "f20451b9",
   "metadata": {},
   "outputs": [],
   "source": [
    "df_labeled = df.loc[df['slices_positive'].notnull()].sort_values('slices_positive').reset_index(drop=True)"
   ]
  },
  {
   "cell_type": "code",
   "execution_count": 13,
   "id": "c8017b0e",
   "metadata": {},
   "outputs": [
    {
     "data": {
      "text/html": [
       "<div>\n",
       "<style scoped>\n",
       "    .dataframe tbody tr th:only-of-type {\n",
       "        vertical-align: middle;\n",
       "    }\n",
       "\n",
       "    .dataframe tbody tr th {\n",
       "        vertical-align: top;\n",
       "    }\n",
       "\n",
       "    .dataframe thead th {\n",
       "        text-align: right;\n",
       "    }\n",
       "</style>\n",
       "<table border=\"1\" class=\"dataframe\">\n",
       "  <thead>\n",
       "    <tr style=\"text-align: right;\">\n",
       "      <th></th>\n",
       "      <th>image</th>\n",
       "      <th>image_slices</th>\n",
       "      <th>image_height</th>\n",
       "      <th>image_width</th>\n",
       "      <th>mask</th>\n",
       "      <th>mask_slices</th>\n",
       "      <th>mask_height</th>\n",
       "      <th>mask_width</th>\n",
       "      <th>slices_positive</th>\n",
       "      <th>positive_pixels_ratio</th>\n",
       "      <th>positive_ratio</th>\n",
       "      <th>positive_slice_ratio</th>\n",
       "    </tr>\n",
       "  </thead>\n",
       "  <tbody>\n",
       "    <tr>\n",
       "      <th>0</th>\n",
       "      <td>2.nrrd</td>\n",
       "      <td>64</td>\n",
       "      <td>64</td>\n",
       "      <td>64</td>\n",
       "      <td>2_Segmentation.nrrd</td>\n",
       "      <td>64</td>\n",
       "      <td>64</td>\n",
       "      <td>64</td>\n",
       "      <td>8</td>\n",
       "      <td>0.001518</td>\n",
       "      <td>0.125</td>\n",
       "      <td>0.12 %</td>\n",
       "    </tr>\n",
       "    <tr>\n",
       "      <th>1</th>\n",
       "      <td>11.nrrd</td>\n",
       "      <td>64</td>\n",
       "      <td>64</td>\n",
       "      <td>64</td>\n",
       "      <td>11_Segmentation.nrrd</td>\n",
       "      <td>64</td>\n",
       "      <td>64</td>\n",
       "      <td>64</td>\n",
       "      <td>10</td>\n",
       "      <td>0.003124</td>\n",
       "      <td>0.15625</td>\n",
       "      <td>0.16 %</td>\n",
       "    </tr>\n",
       "    <tr>\n",
       "      <th>2</th>\n",
       "      <td>1.nrrd</td>\n",
       "      <td>62</td>\n",
       "      <td>64</td>\n",
       "      <td>64</td>\n",
       "      <td>1_Segmentation.nrrd</td>\n",
       "      <td>62</td>\n",
       "      <td>64</td>\n",
       "      <td>64</td>\n",
       "      <td>11</td>\n",
       "      <td>0.002788</td>\n",
       "      <td>0.177419</td>\n",
       "      <td>0.18 %</td>\n",
       "    </tr>\n",
       "    <tr>\n",
       "      <th>3</th>\n",
       "      <td>6.nrrd</td>\n",
       "      <td>64</td>\n",
       "      <td>64</td>\n",
       "      <td>64</td>\n",
       "      <td>6_Segmentation.nrrd</td>\n",
       "      <td>64</td>\n",
       "      <td>64</td>\n",
       "      <td>64</td>\n",
       "      <td>11</td>\n",
       "      <td>0.006325</td>\n",
       "      <td>0.171875</td>\n",
       "      <td>0.17 %</td>\n",
       "    </tr>\n",
       "    <tr>\n",
       "      <th>4</th>\n",
       "      <td>8.nrrd</td>\n",
       "      <td>17</td>\n",
       "      <td>64</td>\n",
       "      <td>64</td>\n",
       "      <td>8_Segmentation.nrrd</td>\n",
       "      <td>17</td>\n",
       "      <td>64</td>\n",
       "      <td>64</td>\n",
       "      <td>11</td>\n",
       "      <td>0.012624</td>\n",
       "      <td>0.647059</td>\n",
       "      <td>0.65 %</td>\n",
       "    </tr>\n",
       "    <tr>\n",
       "      <th>5</th>\n",
       "      <td>10.nrrd</td>\n",
       "      <td>52</td>\n",
       "      <td>128</td>\n",
       "      <td>128</td>\n",
       "      <td>10_Segmentation.nrrd</td>\n",
       "      <td>52</td>\n",
       "      <td>128</td>\n",
       "      <td>128</td>\n",
       "      <td>12</td>\n",
       "      <td>0.0036</td>\n",
       "      <td>0.230769</td>\n",
       "      <td>0.23 %</td>\n",
       "    </tr>\n",
       "    <tr>\n",
       "      <th>6</th>\n",
       "      <td>7.nrrd</td>\n",
       "      <td>24</td>\n",
       "      <td>64</td>\n",
       "      <td>64</td>\n",
       "      <td>7_Segmentation.nrrd</td>\n",
       "      <td>24</td>\n",
       "      <td>64</td>\n",
       "      <td>64</td>\n",
       "      <td>13</td>\n",
       "      <td>0.027384</td>\n",
       "      <td>0.541667</td>\n",
       "      <td>0.54 %</td>\n",
       "    </tr>\n",
       "    <tr>\n",
       "      <th>7</th>\n",
       "      <td>3.nrrd</td>\n",
       "      <td>64</td>\n",
       "      <td>64</td>\n",
       "      <td>64</td>\n",
       "      <td>3_Segmentation.nrrd</td>\n",
       "      <td>64</td>\n",
       "      <td>64</td>\n",
       "      <td>64</td>\n",
       "      <td>18</td>\n",
       "      <td>0.008568</td>\n",
       "      <td>0.28125</td>\n",
       "      <td>0.28 %</td>\n",
       "    </tr>\n",
       "    <tr>\n",
       "      <th>8</th>\n",
       "      <td>9.nrrd</td>\n",
       "      <td>128</td>\n",
       "      <td>128</td>\n",
       "      <td>52</td>\n",
       "      <td>9_Segmentation.nrrd</td>\n",
       "      <td>128</td>\n",
       "      <td>128</td>\n",
       "      <td>52</td>\n",
       "      <td>19</td>\n",
       "      <td>0.003933</td>\n",
       "      <td>0.148438</td>\n",
       "      <td>0.15 %</td>\n",
       "    </tr>\n",
       "    <tr>\n",
       "      <th>9</th>\n",
       "      <td>5.nrrd</td>\n",
       "      <td>128</td>\n",
       "      <td>128</td>\n",
       "      <td>128</td>\n",
       "      <td>5_Segmentation.nrrd</td>\n",
       "      <td>128</td>\n",
       "      <td>128</td>\n",
       "      <td>128</td>\n",
       "      <td>22</td>\n",
       "      <td>0.001923</td>\n",
       "      <td>0.171875</td>\n",
       "      <td>0.17 %</td>\n",
       "    </tr>\n",
       "  </tbody>\n",
       "</table>\n",
       "</div>"
      ],
      "text/plain": [
       "     image  image_slices  image_height  image_width                  mask  \\\n",
       "0   2.nrrd            64            64           64   2_Segmentation.nrrd   \n",
       "1  11.nrrd            64            64           64  11_Segmentation.nrrd   \n",
       "2   1.nrrd            62            64           64   1_Segmentation.nrrd   \n",
       "3   6.nrrd            64            64           64   6_Segmentation.nrrd   \n",
       "4   8.nrrd            17            64           64   8_Segmentation.nrrd   \n",
       "5  10.nrrd            52           128          128  10_Segmentation.nrrd   \n",
       "6   7.nrrd            24            64           64   7_Segmentation.nrrd   \n",
       "7   3.nrrd            64            64           64   3_Segmentation.nrrd   \n",
       "8   9.nrrd           128           128           52   9_Segmentation.nrrd   \n",
       "9   5.nrrd           128           128          128   5_Segmentation.nrrd   \n",
       "\n",
       "  mask_slices mask_height mask_width slices_positive positive_pixels_ratio  \\\n",
       "0          64          64         64               8              0.001518   \n",
       "1          64          64         64              10              0.003124   \n",
       "2          62          64         64              11              0.002788   \n",
       "3          64          64         64              11              0.006325   \n",
       "4          17          64         64              11              0.012624   \n",
       "5          52         128        128              12                0.0036   \n",
       "6          24          64         64              13              0.027384   \n",
       "7          64          64         64              18              0.008568   \n",
       "8         128         128         52              19              0.003933   \n",
       "9         128         128        128              22              0.001923   \n",
       "\n",
       "  positive_ratio positive_slice_ratio  \n",
       "0          0.125               0.12 %  \n",
       "1        0.15625               0.16 %  \n",
       "2       0.177419               0.18 %  \n",
       "3       0.171875               0.17 %  \n",
       "4       0.647059               0.65 %  \n",
       "5       0.230769               0.23 %  \n",
       "6       0.541667               0.54 %  \n",
       "7        0.28125               0.28 %  \n",
       "8       0.148438               0.15 %  \n",
       "9       0.171875               0.17 %  "
      ]
     },
     "execution_count": 13,
     "metadata": {},
     "output_type": "execute_result"
    }
   ],
   "source": [
    "df_labeled"
   ]
  },
  {
   "cell_type": "code",
   "execution_count": 18,
   "id": "950813ea",
   "metadata": {},
   "outputs": [
    {
     "name": "stdout",
     "output_type": "stream",
     "text": [
      "Mean positive slice ratio: 0.2652\n",
      "Min. positive slice ratio: 0.1250\n",
      "Max. positive slice ratio: 0.6471\n"
     ]
    }
   ],
   "source": [
    "print(f\"Mean positive slice ratio: {df_labeled['positive_ratio'].mean():.4f}\")\n",
    "print(f\"Min. positive slice ratio: {df_labeled['positive_ratio'].min():.4f}\")\n",
    "print(f\"Max. positive slice ratio: {df_labeled['positive_ratio'].max():.4f}\")"
   ]
  },
  {
   "cell_type": "code",
   "execution_count": 19,
   "id": "b2499b28",
   "metadata": {},
   "outputs": [
    {
     "name": "stdout",
     "output_type": "stream",
     "text": [
      "Mean positive pixels ratio: 0.0072\n",
      "Min. positive pixels ratio: 0.0015\n",
      "Max. positive pixels ratio: 0.0274\n"
     ]
    }
   ],
   "source": [
    "print(f\"Mean positive pixels ratio: {df_labeled['positive_pixels_ratio'].mean():.4f}\")\n",
    "print(f\"Min. positive pixels ratio: {df_labeled['positive_pixels_ratio'].min():.4f}\")\n",
    "print(f\"Max. positive pixels ratio: {df_labeled['positive_pixels_ratio'].max():.4f}\")"
   ]
  },
  {
   "cell_type": "code",
   "execution_count": null,
   "id": "4c2599aa",
   "metadata": {},
   "outputs": [],
   "source": []
  },
  {
   "cell_type": "code",
   "execution_count": 6,
   "id": "30e15e3f",
   "metadata": {},
   "outputs": [
    {
     "data": {
      "text/plain": [
       "64     61\n",
       "128    39\n",
       "52      1\n",
       "80      1\n",
       "Name: image_width, dtype: int64"
      ]
     },
     "execution_count": 6,
     "metadata": {},
     "output_type": "execute_result"
    }
   ],
   "source": [
    "df['image_width'].value_counts()"
   ]
  },
  {
   "cell_type": "code",
   "execution_count": 7,
   "id": "e8adc785",
   "metadata": {},
   "outputs": [
    {
     "data": {
      "text/plain": [
       "64     61\n",
       "128    40\n",
       "80      1\n",
       "Name: image_height, dtype: int64"
      ]
     },
     "execution_count": 7,
     "metadata": {},
     "output_type": "execute_result"
    }
   ],
   "source": [
    "df['image_height'].value_counts()"
   ]
  },
  {
   "cell_type": "code",
   "execution_count": 8,
   "id": "6c5218e6",
   "metadata": {},
   "outputs": [
    {
     "data": {
      "text/plain": [
       "17      1\n",
       "21      1\n",
       "22      1\n",
       "24      1\n",
       "26     15\n",
       "27      2\n",
       "28      3\n",
       "29      4\n",
       "33      1\n",
       "47      1\n",
       "52     15\n",
       "54      5\n",
       "56      2\n",
       "58      4\n",
       "60      1\n",
       "62      2\n",
       "64     32\n",
       "71      1\n",
       "80      1\n",
       "83      1\n",
       "128     8\n",
       "Name: image_slices, dtype: int64"
      ]
     },
     "execution_count": 8,
     "metadata": {},
     "output_type": "execute_result"
    }
   ],
   "source": [
    "df['image_slices'].value_counts().sort_index()"
   ]
  },
  {
   "cell_type": "code",
   "execution_count": 9,
   "id": "070c2917",
   "metadata": {},
   "outputs": [
    {
     "data": {
      "text/plain": [
       "11    3\n",
       "8     1\n",
       "18    1\n",
       "22    1\n",
       "13    1\n",
       "19    1\n",
       "12    1\n",
       "10    1\n",
       "Name: slices_positive, dtype: int64"
      ]
     },
     "execution_count": 9,
     "metadata": {},
     "output_type": "execute_result"
    }
   ],
   "source": [
    "df.loc[(df['slices_positive'].notnull()), 'slices_positive'].value_counts()"
   ]
  },
  {
   "cell_type": "markdown",
   "id": "ae1de0e7",
   "metadata": {},
   "source": [
    "## For TorchIO create dataset with axes order C x W x H x D"
   ]
  },
  {
   "cell_type": "code",
   "execution_count": 4,
   "id": "dbb1c214",
   "metadata": {},
   "outputs": [],
   "source": [
    "path_xyz = os.path.join(os.getcwd(), '..', 'data', 'segmentation_xyz')\n",
    "\n",
    "if not os.path.isdir(path_xyz):\n",
    "    os.mkdir(path_xyz)"
   ]
  },
  {
   "cell_type": "code",
   "execution_count": 11,
   "id": "a77eb244",
   "metadata": {},
   "outputs": [
    {
     "data": {
      "application/vnd.jupyter.widget-view+json": {
       "model_id": "8889c6b19f98440d91a80a85d66144e6",
       "version_major": 2,
       "version_minor": 0
      },
      "text/plain": [
       "  0%|          | 0/102 [00:00<?, ?it/s]"
      ]
     },
     "metadata": {},
     "output_type": "display_data"
    }
   ],
   "source": [
    "files = list(df[['image', 'mask']].to_records(index=False))\n",
    "\n",
    "for file_image, file_mask in tqdm(files):\n",
    "    \n",
    "    image, head = nrrd.read(os.path.join(path_segmentation, file_image))\n",
    "    image = np.expand_dims(image.swapaxes(0, 1).swapaxes(1, 2), axis=0)\n",
    "    \n",
    "    resize = tio.Resize((128, 128, image.shape[2]), image_interpolation='linear')\n",
    "    image = np.squeeze(resize(image), axis=0)\n",
    "    \n",
    "    nrrd.write(os.path.join(path_xyz, file_image), image)\n",
    "    \n",
    "    if not pd.isnull(file_mask):\n",
    "        \n",
    "        mask, head = nrrd.read(os.path.join(path_segmentation, file_mask))\n",
    "        mask = np.expand_dims(mask.swapaxes(0, 1).swapaxes(1, 2), axis=0)\n",
    "        mask = np.squeeze(resize(mask), axis=0)\n",
    "        nrrd.write(os.path.join(path_xyz, file_mask), mask)"
   ]
  },
  {
   "cell_type": "code",
   "execution_count": null,
   "id": "df8b0757",
   "metadata": {},
   "outputs": [],
   "source": []
  },
  {
   "cell_type": "code",
   "execution_count": 109,
   "id": "21a9c23e",
   "metadata": {},
   "outputs": [
    {
     "data": {
      "application/vnd.jupyter.widget-view+json": {
       "model_id": "f1e9911862e04c739f16fda595f39698",
       "version_major": 2,
       "version_minor": 0
      },
      "text/plain": [
       "  0%|          | 0/102 [00:00<?, ?it/s]"
      ]
     },
     "metadata": {},
     "output_type": "display_data"
    }
   ],
   "source": [
    "for i, (file_image, file_mask) in enumerate(tqdm(files)):\n",
    "    \n",
    "    image, head = nrrd.read(os.path.join(path_xyz, file_image))\n",
    "    mask, head = nrrd.read(os.path.join(path_xyz, file_mask))\n",
    "    \n",
    "    break"
   ]
  },
  {
   "cell_type": "code",
   "execution_count": 110,
   "id": "6a759d74",
   "metadata": {},
   "outputs": [
    {
     "data": {
      "text/plain": [
       "<matplotlib.image.AxesImage at 0x20688af8520>"
      ]
     },
     "execution_count": 110,
     "metadata": {},
     "output_type": "execute_result"
    },
    {
     "data": {
      "image/png": "[encoded data removed]",
      "text/plain": [
       "<Figure size 432x288 with 1 Axes>"
      ]
     },
     "metadata": {
      "needs_background": "light"
     },
     "output_type": "display_data"
    }
   ],
   "source": [
    "plt.imshow(image[..., 26])"
   ]
  },
  {
   "cell_type": "code",
   "execution_count": 111,
   "id": "e1f515b5",
   "metadata": {},
   "outputs": [
    {
     "data": {
      "text/plain": [
       "<matplotlib.image.AxesImage at 0x20688c0fa30>"
      ]
     },
     "execution_count": 111,
     "metadata": {},
     "output_type": "execute_result"
    },
    {
     "data": {
      "image/png": "[encoded data removed]",
      "text/plain": [
       "<Figure size 432x288 with 1 Axes>"
      ]
     },
     "metadata": {
      "needs_background": "light"
     },
     "output_type": "display_data"
    }
   ],
   "source": [
    "plt.imshow(mask[..., 26])"
   ]
  },
  {
   "cell_type": "code",
   "execution_count": null,
   "id": "aead051f",
   "metadata": {},
   "outputs": [],
   "source": []
  },
  {
   "cell_type": "markdown",
   "id": "b81ffbc8",
   "metadata": {},
   "source": [
    "## Crop images in 3D rectangle where pixels > 0"
   ]
  },
  {
   "cell_type": "code",
   "execution_count": 21,
   "id": "c5b3b17c",
   "metadata": {},
   "outputs": [
    {
     "data": {
      "application/vnd.jupyter.widget-view+json": {
       "model_id": "33b82e166b054c7cb1282837f5d060cb",
       "version_major": 2,
       "version_minor": 0
      },
      "text/plain": [
       "  0%|          | 0/92 [00:00<?, ?it/s]"
      ]
     },
     "metadata": {},
     "output_type": "display_data"
    }
   ],
   "source": [
    "path_data = os.path.join(os.getcwd(), '..', 'data')\n",
    "path_segmentation = os.path.join(path_data, 'segmentation_xyz')\n",
    "path_cropped = os.path.join(path_data, 'segmentation_xyz_cropped')\n",
    "\n",
    "if not os.path.isdir(path_cropped):\n",
    "    os.mkdir(path_cropped)\n",
    "    \n",
    "\n",
    "segmentations = list(df.loc[(df['mask'].isnull()), ['image']].to_records(index=False))\n",
    "segmentations = list(map(\n",
    "    lambda x: os.path.join(path_segmentation, x[0]), \n",
    "    segmentations\n",
    "))\n",
    "\n",
    "for file_path in tqdm(segmentations):\n",
    "    \n",
    "    file_name = file_path.split(os.sep)[-1]\n",
    "    volume, _ = nrrd.read(file_path)\n",
    "    \n",
    "    indices = np.argwhere(volume > 0)\n",
    "    \n",
    "    idx_start_x, idx_start_y, idx_start_z = indices.argmin(axis=0)\n",
    "\n",
    "    start_x = indices[idx_start_x][0]\n",
    "    start_y = indices[idx_start_y][1]\n",
    "    start_z = indices[idx_start_z][2]\n",
    "        \n",
    "    idx_end_x, idx_end_y, idx_end_z = indices.argmax(axis=0)\n",
    "\n",
    "    end_x = indices[idx_end_x][0]\n",
    "    end_y = indices[idx_end_y][1]\n",
    "    end_z = indices[idx_end_z][2]\n",
    "    \n",
    "    cropped_volume = volume[start_x: end_x, start_y: end_y, start_z: end_z]\n",
    "    cropped_volume = np.expand_dims(cropped_volume, axis=0)\n",
    "    \n",
    "    resize = tio.Resize((128, 128, cropped_volume.shape[-1]), image_interpolation='linear')\n",
    "    resized_volume = np.squeeze(resize(cropped_volume), axis=0)\n",
    "    \n",
    "    nrrd.write(os.path.join(path_cropped, file_name), resized_volume)"
   ]
  },
  {
   "cell_type": "code",
   "execution_count": null,
   "id": "f2f42d9a",
   "metadata": {},
   "outputs": [],
   "source": []
  },
  {
   "cell_type": "code",
   "execution_count": null,
   "id": "c452d242",
   "metadata": {},
   "outputs": [],
   "source": []
  },
  {
   "cell_type": "code",
   "execution_count": null,
   "id": "44f1c0fe",
   "metadata": {},
   "outputs": [],
   "source": []
  },
  {
   "cell_type": "code",
   "execution_count": null,
   "id": "8f6bbb52",
   "metadata": {},
   "outputs": [],
   "source": []
  },
  {
   "cell_type": "code",
   "execution_count": null,
   "id": "0ae86381",
   "metadata": {},
   "outputs": [],
   "source": []
  },
  {
   "cell_type": "code",
   "execution_count": null,
   "id": "11655715",
   "metadata": {},
   "outputs": [],
   "source": []
  },
  {
   "cell_type": "code",
   "execution_count": null,
   "id": "186422ff",
   "metadata": {},
   "outputs": [],
   "source": []
  },
  {
   "cell_type": "code",
   "execution_count": null,
   "id": "a44aad6c",
   "metadata": {},
   "outputs": [],
   "source": []
  },
  {
   "cell_type": "code",
   "execution_count": null,
   "id": "8e8e8489",
   "metadata": {},
   "outputs": [],
   "source": []
  }
 ],
 "metadata": {
  "kernelspec": {
   "display_name": "Python 3 (ipykernel)",
   "language": "python",
   "name": "python3"
  },
  "language_info": {
   "codemirror_mode": {
    "name": "ipython",
    "version": 3
   },
   "file_extension": ".py",
   "mimetype": "text/x-python",
   "name": "python",
   "nbconvert_exporter": "python",
   "pygments_lexer": "ipython3",
   "version": "3.9.7"
  }
 },
 "nbformat": 4,
 "nbformat_minor": 5
}
